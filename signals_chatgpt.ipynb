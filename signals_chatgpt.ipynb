{
  "nbformat": 4,
  "nbformat_minor": 0,
  "metadata": {
    "colab": {
      "provenance": [],
      "authorship_tag": "ABX9TyNXeArzpfF+jVFxKZfTgQ72",
      "include_colab_link": true
    },
    "kernelspec": {
      "name": "python3",
      "display_name": "Python 3"
    },
    "language_info": {
      "name": "python"
    }
  },
  "cells": [
    {
      "cell_type": "markdown",
      "metadata": {
        "id": "view-in-github",
        "colab_type": "text"
      },
      "source": [
        "<a href=\"https://colab.research.google.com/github/karloxkronfeld/backtestings/blob/master/signals_chatgpt.ipynb\" target=\"_parent\"><img src=\"https://colab.research.google.com/assets/colab-badge.svg\" alt=\"Open In Colab\"/></a>"
      ]
    },
    {
      "cell_type": "code",
      "source": [
        "pip install yfinance"
      ],
      "metadata": {
        "colab": {
          "base_uri": "https://localhost:8080/"
        },
        "id": "W8v3-LrOM80P",
        "outputId": "c4ba5bb5-722a-4cc8-8b13-ab2a3e9e6725"
      },
      "execution_count": 1,
      "outputs": [
        {
          "output_type": "stream",
          "name": "stdout",
          "text": [
            "Looking in indexes: https://pypi.org/simple, https://us-python.pkg.dev/colab-wheels/public/simple/\n",
            "Collecting yfinance\n",
            "  Downloading yfinance-0.2.3-py2.py3-none-any.whl (50 kB)\n",
            "\u001b[2K     \u001b[90m━━━━━━━━━━━━━━━━━━━━━━━━━━━━━━━━━━━━━━━━\u001b[0m \u001b[32m50.4/50.4 KB\u001b[0m \u001b[31m2.6 MB/s\u001b[0m eta \u001b[36m0:00:00\u001b[0m\n",
            "\u001b[?25hRequirement already satisfied: appdirs>=1.4.4 in /usr/local/lib/python3.8/dist-packages (from yfinance) (1.4.4)\n",
            "Collecting requests>=2.26\n",
            "  Downloading requests-2.28.1-py3-none-any.whl (62 kB)\n",
            "\u001b[2K     \u001b[90m━━━━━━━━━━━━━━━━━━━━━━━━━━━━━━━━━━━━━━━━\u001b[0m \u001b[32m62.8/62.8 KB\u001b[0m \u001b[31m6.4 MB/s\u001b[0m eta \u001b[36m0:00:00\u001b[0m\n",
            "\u001b[?25hRequirement already satisfied: numpy>=1.16.5 in /usr/local/lib/python3.8/dist-packages (from yfinance) (1.21.6)\n",
            "Requirement already satisfied: multitasking>=0.0.7 in /usr/local/lib/python3.8/dist-packages (from yfinance) (0.0.11)\n",
            "Collecting beautifulsoup4>=4.11.1\n",
            "  Downloading beautifulsoup4-4.11.1-py3-none-any.whl (128 kB)\n",
            "\u001b[2K     \u001b[90m━━━━━━━━━━━━━━━━━━━━━━━━━━━━━━━━━━━━━━\u001b[0m \u001b[32m128.2/128.2 KB\u001b[0m \u001b[31m12.1 MB/s\u001b[0m eta \u001b[36m0:00:00\u001b[0m\n",
            "\u001b[?25hCollecting cryptography>=3.3.2\n",
            "  Downloading cryptography-39.0.0-cp36-abi3-manylinux_2_24_x86_64.whl (4.1 MB)\n",
            "\u001b[2K     \u001b[90m━━━━━━━━━━━━━━━━━━━━━━━━━━━━━━━━━━━━━━━━\u001b[0m \u001b[32m4.1/4.1 MB\u001b[0m \u001b[31m31.8 MB/s\u001b[0m eta \u001b[36m0:00:00\u001b[0m\n",
            "\u001b[?25hCollecting frozendict>=2.3.4\n",
            "  Downloading frozendict-2.3.4-cp38-cp38-manylinux_2_17_x86_64.manylinux2014_x86_64.whl (110 kB)\n",
            "\u001b[2K     \u001b[90m━━━━━━━━━━━━━━━━━━━━━━━━━━━━━━━━━━━━━━\u001b[0m \u001b[32m111.0/111.0 KB\u001b[0m \u001b[31m11.4 MB/s\u001b[0m eta \u001b[36m0:00:00\u001b[0m\n",
            "\u001b[?25hRequirement already satisfied: pandas>=1.3.0 in /usr/local/lib/python3.8/dist-packages (from yfinance) (1.3.5)\n",
            "Collecting html5lib>=1.1\n",
            "  Downloading html5lib-1.1-py2.py3-none-any.whl (112 kB)\n",
            "\u001b[2K     \u001b[90m━━━━━━━━━━━━━━━━━━━━━━━━━━━━━━━━━━━━━━━\u001b[0m \u001b[32m112.2/112.2 KB\u001b[0m \u001b[31m9.5 MB/s\u001b[0m eta \u001b[36m0:00:00\u001b[0m\n",
            "\u001b[?25hRequirement already satisfied: lxml>=4.9.1 in /usr/local/lib/python3.8/dist-packages (from yfinance) (4.9.2)\n",
            "Requirement already satisfied: pytz>=2022.5 in /usr/local/lib/python3.8/dist-packages (from yfinance) (2022.7)\n",
            "Collecting soupsieve>1.2\n",
            "  Downloading soupsieve-2.3.2.post1-py3-none-any.whl (37 kB)\n",
            "Requirement already satisfied: cffi>=1.12 in /usr/local/lib/python3.8/dist-packages (from cryptography>=3.3.2->yfinance) (1.15.1)\n",
            "Requirement already satisfied: six>=1.9 in /usr/local/lib/python3.8/dist-packages (from html5lib>=1.1->yfinance) (1.15.0)\n",
            "Requirement already satisfied: webencodings in /usr/local/lib/python3.8/dist-packages (from html5lib>=1.1->yfinance) (0.5.1)\n",
            "Requirement already satisfied: python-dateutil>=2.7.3 in /usr/local/lib/python3.8/dist-packages (from pandas>=1.3.0->yfinance) (2.8.2)\n",
            "Requirement already satisfied: certifi>=2017.4.17 in /usr/local/lib/python3.8/dist-packages (from requests>=2.26->yfinance) (2022.12.7)\n",
            "Requirement already satisfied: urllib3<1.27,>=1.21.1 in /usr/local/lib/python3.8/dist-packages (from requests>=2.26->yfinance) (1.24.3)\n",
            "Requirement already satisfied: charset-normalizer<3,>=2 in /usr/local/lib/python3.8/dist-packages (from requests>=2.26->yfinance) (2.1.1)\n",
            "Requirement already satisfied: idna<4,>=2.5 in /usr/local/lib/python3.8/dist-packages (from requests>=2.26->yfinance) (2.10)\n",
            "Requirement already satisfied: pycparser in /usr/local/lib/python3.8/dist-packages (from cffi>=1.12->cryptography>=3.3.2->yfinance) (2.21)\n",
            "Installing collected packages: soupsieve, requests, html5lib, frozendict, cryptography, beautifulsoup4, yfinance\n",
            "  Attempting uninstall: requests\n",
            "    Found existing installation: requests 2.25.1\n",
            "    Uninstalling requests-2.25.1:\n",
            "      Successfully uninstalled requests-2.25.1\n",
            "  Attempting uninstall: html5lib\n",
            "    Found existing installation: html5lib 1.0.1\n",
            "    Uninstalling html5lib-1.0.1:\n",
            "      Successfully uninstalled html5lib-1.0.1\n",
            "  Attempting uninstall: beautifulsoup4\n",
            "    Found existing installation: beautifulsoup4 4.6.3\n",
            "    Uninstalling beautifulsoup4-4.6.3:\n",
            "      Successfully uninstalled beautifulsoup4-4.6.3\n",
            "Successfully installed beautifulsoup4-4.11.1 cryptography-39.0.0 frozendict-2.3.4 html5lib-1.1 requests-2.28.1 soupsieve-2.3.2.post1 yfinance-0.2.3\n"
          ]
        }
      ]
    },
    {
      "cell_type": "code",
      "source": [
        "import yfinance as yf\n",
        "import pandas as pd\n",
        "import numpy as np\n",
        "import matplotlib.pyplot as plt"
      ],
      "metadata": {
        "id": "WKn4Hwoj8JkI"
      },
      "execution_count": null,
      "outputs": []
    },
    {
      "cell_type": "code",
      "source": [
        "start_date ='2000-01-01' \n",
        "end_date = '2023-1-1'\n",
        "sp500 = yf.download(\"^GSPC\", start=start_date, end=end_date)\n",
        "sp500.columns=['open', 'high', 'low', 'close', 'Adj Close', 'volume']\n",
        "data=sp500"
      ],
      "metadata": {
        "colab": {
          "base_uri": "https://localhost:8080/"
        },
        "id": "FzdnuddoLgOh",
        "outputId": "ede02e88-ff5a-41f2-9a32-49198111ada7"
      },
      "execution_count": 80,
      "outputs": [
        {
          "output_type": "stream",
          "name": "stdout",
          "text": [
            "\r[*********************100%***********************]  1 of 1 completed\n"
          ]
        }
      ]
    },
    {
      "cell_type": "code",
      "source": [
        "#SIGNAL #1\n",
        "# Calcular el promedio móvil y la desviación estándar\n",
        "sma = data[\"close\"].rolling(window=20).mean()\n",
        "std = data[\"close\"].rolling(window=20).std()\n",
        "\n",
        "# Calcular las bandas de Bollinger\n",
        "upper_band = sma + 2 * std\n",
        "lower_band = sma - 2 * std\n",
        "\n",
        "# Generar señales de compra y venta\n",
        "data[\"signal\"] = np.where(data[\"close\"] > upper_band, 1, 0)\n",
        "data[\"signal\"] = np.where(data[\"close\"] < lower_band, -1, data[\"signal\"])"
      ],
      "metadata": {
        "id": "DN_5vYU8Tn76"
      },
      "execution_count": 50,
      "outputs": []
    },
    {
      "cell_type": "code",
      "source": [
        "#SIGNAL #2\n",
        "# Calculate the Exponential Moving Average (EMA) for short and long window\n",
        "short_window = 12\n",
        "long_window = 26\n",
        "data[\"macd\"] = data[\"close\"].ewm(span=short_window).mean() - data[\"close\"].ewm(span=long_window).mean()\n",
        "\n",
        "# Calculate the signal line (EMA of the MACD line)\n",
        "signal_window = 9\n",
        "data[\"macd_signal\"] = data[\"macd\"].ewm(span=signal_window).mean()\n",
        "\n",
        "# Calculate the histogram (MACD - signal line)\n",
        "data[\"macd_hist\"] = data[\"macd\"] - data[\"macd_signal\"]\n",
        "\n",
        "# Generate signals\n",
        "data[\"signal\"] = np.where(data[\"macd\"] > data[\"macd_signal\"], 1, 0)\n",
        "data[\"signal\"] = np.where(data[\"macd\"] < data[\"macd_signal\"], -1, data[\"signal\"])\n"
      ],
      "metadata": {
        "id": "TwuImd2J9snN"
      },
      "execution_count": 51,
      "outputs": []
    },
    {
      "cell_type": "code",
      "source": [
        "#SIGNAL #3\n",
        "# Calculate the RSI\n",
        "delta = data[\"close\"].diff()\n",
        "gain = delta[delta > 0].mean()\n",
        "loss = -delta[delta < 0].mean()\n",
        "rs = gain / loss\n",
        "rsi = 100 - (100 / (1 + rs))\n",
        "\n",
        "# Generate signals\n",
        "data[\"signal\"] = np.where(rsi > 80, -1, 0)\n",
        "data[\"signal\"] = np.where(rsi < 20, 1, data[\"signal\"])\n"
      ],
      "metadata": {
        "id": "ZjKzDAWe-JZm"
      },
      "execution_count": 62,
      "outputs": []
    },
    {
      "cell_type": "code",
      "source": [
        "data.columns=['open', 'high', 'low', 'close', 'Adj close', 'Volume', 'signal', 'macd',\n",
        "       'macd_signal', 'macd_hist', 'position', 'returns', 'strategy_returns',\n",
        "       'cum_strategy_returns', 'min_close', 'max_close', 'stochastic_k',\n",
        "       'stochastic_d']"
      ],
      "metadata": {
        "id": "gsq8Tn9SD78j"
      },
      "execution_count": 71,
      "outputs": []
    },
    {
      "cell_type": "code",
      "source": [
        "# SIGNAL #4\n",
        "# Define a function to calculate the ADX\n",
        "def calculate_adx(data, window):\n",
        "    # Calculate the True Range (TR)\n",
        "    data[\"true_range\"] = data[[\"high\", \"low\", \"close\"]].apply(lambda x: max(x) - min(x), axis=1)\n",
        "    \n",
        "    # Calculate the 14-day rolling average of the true range\n",
        "    data[\"avg_true_range\"] = data[\"true_range\"].rolling(window=window).mean()\n",
        "    \n",
        "    # Calculate the 14-day rolling average of the difference between the high and the close\n",
        "    data[\"avg_pos_change\"] = (data[\"high\"] - data[\"close\"]).rolling(window=window).mean()\n",
        "    \n",
        "    # Calculate the 14-day rolling average of the difference between the low and the close\n",
        "    data[\"avg_neg_change\"] = (data[\"low\"] - data[\"close\"]).rolling(window=window).mean()\n",
        "    \n",
        "    # Calculate the +DI and -DI\n",
        "    data[\"pos_di\"] = 100 * (data[\"avg_pos_change\"] / data[\"avg_true_range\"])\n",
        "    data[\"neg_di\"] = 100 * (data[\"avg_neg_change\"] / data[\"avg_true_range\"])\n",
        "    \n",
        "    # Calculate the DX\n",
        "    data[\"dx\"] = 100 * (abs(data[\"pos_di\"] - data[\"neg_di\"]) / (data[\"pos_di\"] + data[\"neg_di\"]))\n",
        "    \n",
        "    # Calculate the ADX\n",
        "    data[\"adx\"] = data[\"dx\"].rolling(window=window).mean()\n",
        "    return data\n",
        "\n",
        "# Calculate the ADX\n",
        "window = 14\n",
        "data = calculate_adx(data, window)\n",
        "\n",
        "# Generate signals\n",
        "data[\"signal\"] = np.where(data[\"adx\"] > 25, 1, 0)\n",
        "data[\"signal\"] = np.where(data[\"adx\"] < 20, -1, data[\"signal\"])\n"
      ],
      "metadata": {
        "id": "PqSkXa1XD4DR"
      },
      "execution_count": 81,
      "outputs": []
    },
    {
      "cell_type": "code",
      "source": [
        "#SIGNAL #5 \n",
        "# Calculate the 14-day rolling minimum and maximum\n",
        "window = 14\n",
        "data[\"min_close\"] = data[\"close\"].rolling(window=window).min()\n",
        "data[\"max_close\"] = data[\"close\"].rolling(window=window).max()\n",
        "\n",
        "# Calculate the stochastic\n",
        "data[\"stochastic_k\"] = 100 * ((data[\"close\"] - data[\"min_close\"]) / (data[\"max_close\"] - data[\"min_close\"]))\n",
        "\n",
        "# Calculate the signal line\n",
        "data[\"stochastic_d\"] = data[\"stochastic_k\"].rolling(window=3).mean()\n",
        "\n",
        "# Generate signals\n",
        "data[\"signal\"] = np.where(data[\"stochastic_k\"] > data[\"stochastic_d\"], 1, 0)\n",
        "data[\"signal\"] = np.where(data[\"stochastic_k\"] < data[\"stochastic_d\"], -1, data[\"signal\"])\n"
      ],
      "metadata": {
        "id": "NByIrHEo_16O"
      },
      "execution_count": 65,
      "outputs": []
    },
    {
      "cell_type": "code",
      "source": [
        "import matplotlib.pyplot as plt\n",
        "\n",
        "# Plot data\n",
        "plt.figure(figsize=(17,7))\n",
        "# plt.plot(data[\"close\"], label=\"close\")\n",
        "\n",
        "\n",
        "# Plot signals\n",
        "# plt.scatter(data.index, data[\"close\"], c=data[\"signal\"], cmap=\"RdYlGn\")\n",
        "plt.show()"
      ],
      "metadata": {
        "colab": {
          "base_uri": "https://localhost:8080/",
          "height": 34
        },
        "id": "QAh6mc116Ezz",
        "outputId": "b226cbaf-3d73-4f8b-882e-34e520e86168"
      },
      "execution_count": 89,
      "outputs": [
        {
          "output_type": "display_data",
          "data": {
            "text/plain": [
              "<Figure size 1224x504 with 0 Axes>"
            ]
          },
          "metadata": {}
        }
      ]
    },
    {
      "cell_type": "code",
      "source": [
        "# Create a new column to keep track of the position\n",
        "data[\"position\"] = data[\"signal\"].shift(1)\n",
        "\n",
        "# Create a new column for the daily returns\n",
        "data[\"returns\"] = np.log(data[\"close\"] / data[\"close\"].shift(1))\n",
        "\n",
        "# Create a new column for the strategy returns\n",
        "data[\"strategy_returns\"] = data[\"position\"] * data[\"returns\"]\n",
        "\n",
        "# Create a new column to keep track of the cumulative returns\n",
        "data[\"cum_strategy_returns\"] = data[\"strategy_returns\"].cumsum()\n",
        "\n",
        "# Print the final cumulative returns\n",
        "print(\"Cumulative returns: \", data[\"cum_strategy_returns\"].iloc[-1])\n"
      ],
      "metadata": {
        "colab": {
          "base_uri": "https://localhost:8080/"
        },
        "id": "RXfYpT0x6T47",
        "outputId": "99e7c190-16dd-4454-fa7e-b38032efdeb6"
      },
      "execution_count": 91,
      "outputs": [
        {
          "output_type": "stream",
          "name": "stdout",
          "text": [
            "Cumulative returns:  -0.2633236188513588\n"
          ]
        }
      ]
    },
    {
      "cell_type": "code",
      "source": [
        "\n",
        "# plot the cumulative returns\n",
        "plt.plot(data[\"cum_strategy_returns\"], label=\"Strategy Returns\")\n",
        "plt.plot(data[\"close\"].pct_change().cumsum(), label=\"Market Returns\")\n",
        "plt.legend(loc=\"best\")\n",
        "plt.show()\n"
      ],
      "metadata": {
        "colab": {
          "base_uri": "https://localhost:8080/",
          "height": 265
        },
        "id": "SRdAOSvp7qKD",
        "outputId": "f3cef2b6-560e-4570-cfae-ba359a1d18df"
      },
      "execution_count": 92,
      "outputs": [
        {
          "output_type": "display_data",
          "data": {
            "text/plain": [
              "<Figure size 432x288 with 1 Axes>"
            ],
            "image/png": "[encoded data removed]"
          },
          "metadata": {
            "needs_background": "light"
          }
        }
      ]
    },
    {
      "cell_type": "code",
      "source": [],
      "metadata": {
        "id": "qll5jBlM8EAs"
      },
      "execution_count": 54,
      "outputs": []
    }
  ]
}